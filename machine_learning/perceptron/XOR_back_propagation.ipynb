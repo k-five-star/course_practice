{
 "cells": [
  {
   "cell_type": "markdown",
   "metadata": {},
   "source": [
    "## Settings"
   ]
  },
  {
   "cell_type": "code",
   "execution_count": 1,
   "metadata": {},
   "outputs": [],
   "source": [
    "import numpy as np\n",
    "\n",
    "def sigmoid(x): # sigmoid function\n",
    "    return 1 / (1 + np.exp(-x))\n",
    "\n",
    "def sigmoid_derivative(x): # derivative of sigmoid function\n",
    "    return x * (1 - x)\n",
    "\n",
    "inputs, hiddens, outputs = 2, 2, 1 # number of neurons in each layer\n",
    "learning_rate = 0.2 # learning rate"
   ]
  },
  {
   "cell_type": "code",
   "execution_count": 2,
   "metadata": {},
   "outputs": [],
   "source": [
    "X = np.array([[0, 0], [0, 1], [1, 0], [1, 1]]) # input\n",
    "T = np.array([[0], [1], [1], [0]]) # output\n",
    "\n",
    "W1 = np.random.uniform(size=(inputs, hiddens)) # weights between input and hidden layer\n",
    "W2 = np.random.uniform(size=(hiddens, outputs)) # weights between hidden and output layer\n",
    "B1 = np.random.uniform(size=(1, hiddens)) # bias between input and hidden layer\n",
    "B2 = np.random.uniform(size=(1, outputs)) # bias between hidden and output layer\n",
    "\n",
    "def predict(x): # predict output\n",
    "    layer1 = sigmoid(np.dot(x, W1) + B1) # feed forward input to hidden layer\n",
    "    layer2 = sigmoid(np.dot(layer1, W2) + B2) # feed forward hidden layer to output\n",
    "    return x, layer1, layer2"
   ]
  },
  {
   "cell_type": "markdown",
   "metadata": {},
   "source": [
    "## Back Propagation"
   ]
  },
  {
   "cell_type": "code",
   "execution_count": 3,
   "metadata": {},
   "outputs": [],
   "source": [
    "def fit(): # train the model\n",
    "    global W1, W2, B1, B2\n",
    "    for i in range(100000): # number of epochs\n",
    "        for x, y in zip(X, T):\n",
    "            x = np.reshape(x, (1, -1)) # reshape input to 1 x 2 matrix (1 row, 2 columns) in this case, [0, 0] will be [[0, 0]]\n",
    "            y = np.reshape(y, (1, -1)) # reshape output to 1 x 1 matrix (1 row, 1 column) in this case, [0] will be [[0]]\n",
    "\n",
    "            # feed forward\n",
    "            layer0, layer1, layer2 = predict(x) # predict output\n",
    "            layer2_error = y - layer2 # calculate error\n",
    "            layer2_delta = layer2_error * sigmoid_derivative(layer2) # calculate output layer delta\n",
    "            layer1_error = np.dot(layer2_delta, W2.T) # calculate hidden layer error\n",
    "            layer1_delta = layer1_error * sigmoid_derivative(layer1) # calculate hidden layer delta\n",
    "\n",
    "            W2 += learning_rate * np.dot(layer1.T, layer2_delta) # update weights between hidden and output layer\n",
    "            W1 += learning_rate * np.dot(layer0.T, layer1_delta) # update weights between input and hidden layer\n",
    "            B2 += learning_rate * layer2_delta # update bias between hidden and output layer\n",
    "            B1 += learning_rate * layer1_delta # update bias between input and hidden layer"
   ]
  },
  {
   "cell_type": "code",
   "execution_count": 4,
   "metadata": {},
   "outputs": [],
   "source": [
    "def test(): # test the model\n",
    "    results = []\n",
    "    for x, y in zip(X, T):\n",
    "        x = np.reshape(x, (1, -1))\n",
    "        _, _, output = predict(x)\n",
    "        results.append(\"Input: {}, Output: {}, Expected: {}\".format(x, output, y))\n",
    "    for result in results:\n",
    "        print(result)\n"
   ]
  },
  {
   "cell_type": "code",
   "execution_count": 5,
   "metadata": {},
   "outputs": [
    {
     "name": "stdout",
     "output_type": "stream",
     "text": [
      "Input: [[0 0]], Output: [[0.00898517]], Expected: [0]\n",
      "Input: [[0 1]], Output: [[0.99238253]], Expected: [1]\n",
      "Input: [[1 0]], Output: [[0.99237592]], Expected: [1]\n",
      "Input: [[1 1]], Output: [[0.00780033]], Expected: [0]\n"
     ]
    }
   ],
   "source": [
    "fit()\n",
    "test()"
   ]
  }
 ],
 "metadata": {
  "kernelspec": {
   "display_name": "Python 3",
   "language": "python",
   "name": "python3"
  },
  "language_info": {
   "codemirror_mode": {
    "name": "ipython",
    "version": 3
   },
   "file_extension": ".py",
   "mimetype": "text/x-python",
   "name": "python",
   "nbconvert_exporter": "python",
   "pygments_lexer": "ipython3",
   "version": "3.10.11"
  }
 },
 "nbformat": 4,
 "nbformat_minor": 2
}
